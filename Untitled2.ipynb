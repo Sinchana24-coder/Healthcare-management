{
 "cells": [
  {
   "cell_type": "code",
   "execution_count": 1,
   "id": "d134409d-c284-4a4d-b4e2-675f33317b16",
   "metadata": {},
   "outputs": [
    {
     "ename": "ModuleNotFoundError",
     "evalue": "No module named 'cryptography'",
     "output_type": "error",
     "traceback": [
      "\u001b[1;31m---------------------------------------------------------------------------\u001b[0m",
      "\u001b[1;31mModuleNotFoundError\u001b[0m                       Traceback (most recent call last)",
      "Cell \u001b[1;32mIn[1], line 1\u001b[0m\n\u001b[1;32m----> 1\u001b[0m \u001b[38;5;28;01mfrom\u001b[39;00m \u001b[38;5;21;01mcryptography\u001b[39;00m\u001b[38;5;21;01m.\u001b[39;00m\u001b[38;5;21;01mfernet\u001b[39;00m \u001b[38;5;28;01mimport\u001b[39;00m Fernet\n",
      "\u001b[1;31mModuleNotFoundError\u001b[0m: No module named 'cryptography'"
     ]
    }
   ],
   "source": [
    "from cryptography.fernet import Fernet"
   ]
  },
  {
   "cell_type": "code",
   "execution_count": 3,
   "id": "bfc03531-ddee-48e6-944c-d6db8bec1d66",
   "metadata": {},
   "outputs": [
    {
     "name": "stdout",
     "output_type": "stream",
     "text": [
      "Collecting cryptography"
     ]
    },
    {
     "name": "stderr",
     "output_type": "stream",
     "text": [
      "DEPRECATION: Loading egg at c:\\python311\\lib\\site-packages\\vboxapi-1.0-py3.11.egg is deprecated. pip 23.3 will enforce this behaviour change. A possible replacement is to use pip for package installation..\n",
      "\n",
      "[notice] A new release of pip is available: 23.2.1 -> 23.3.2\n",
      "[notice] To update, run: python.exe -m pip install --upgrade pip\n"
     ]
    },
    {
     "name": "stdout",
     "output_type": "stream",
     "text": [
      "\n",
      "  Obtaining dependency information for cryptography from https://files.pythonhosted.org/packages/f6/23/b28f4a03650512efff13a8fcbb977bac178a765c5a887a6720bee13fa85b/cryptography-41.0.7-cp37-abi3-win_amd64.whl.metadata\n",
      "  Downloading cryptography-41.0.7-cp37-abi3-win_amd64.whl.metadata (5.3 kB)\n",
      "Requirement already satisfied: cffi>=1.12 in c:\\python311\\lib\\site-packages (from cryptography) (1.15.1)\n",
      "Requirement already satisfied: pycparser in c:\\python311\\lib\\site-packages (from cffi>=1.12->cryptography) (2.21)\n",
      "Downloading cryptography-41.0.7-cp37-abi3-win_amd64.whl (2.7 MB)\n",
      "   ---------------------------------------- 0.0/2.7 MB ? eta -:--:--\n",
      "   ---------------------------------------- 0.0/2.7 MB ? eta -:--:--\n",
      "   ---------------------------------------- 0.0/2.7 MB ? eta -:--:--\n",
      "   ---------------------------------------- 0.0/2.7 MB 1.3 MB/s eta 0:00:03\n",
      "   ---------------------------------------- 0.0/2.7 MB 1.3 MB/s eta 0:00:03\n",
      "   ---------------------------------------- 0.0/2.7 MB 1.3 MB/s eta 0:00:03\n",
      "   - -------------------------------------- 0.1/2.7 MB 391.3 kB/s eta 0:00:07\n",
      "   - -------------------------------------- 0.1/2.7 MB 327.3 kB/s eta 0:00:08\n",
      "   - -------------------------------------- 0.1/2.7 MB 450.6 kB/s eta 0:00:06\n",
      "   -- ------------------------------------- 0.2/2.7 MB 620.6 kB/s eta 0:00:04\n",
      "   ---- ----------------------------------- 0.3/2.7 MB 768.0 kB/s eta 0:00:04\n",
      "   ----- ---------------------------------- 0.4/2.7 MB 855.4 kB/s eta 0:00:03\n",
      "   ----- ---------------------------------- 0.4/2.7 MB 922.1 kB/s eta 0:00:03\n",
      "   ----- ---------------------------------- 0.4/2.7 MB 922.1 kB/s eta 0:00:03\n",
      "   ------ --------------------------------- 0.5/2.7 MB 823.7 kB/s eta 0:00:03\n",
      "   ------- -------------------------------- 0.5/2.7 MB 879.2 kB/s eta 0:00:03\n",
      "   -------- ------------------------------- 0.6/2.7 MB 901.1 kB/s eta 0:00:03\n",
      "   --------- ------------------------------ 0.7/2.7 MB 952.6 kB/s eta 0:00:03\n",
      "   ----------- ---------------------------- 0.7/2.7 MB 1.0 MB/s eta 0:00:02\n",
      "   ------------ --------------------------- 0.8/2.7 MB 1.1 MB/s eta 0:00:02\n",
      "   ------------- -------------------------- 0.9/2.7 MB 1.1 MB/s eta 0:00:02\n",
      "   ------------- -------------------------- 0.9/2.7 MB 1.1 MB/s eta 0:00:02\n",
      "   ------------- -------------------------- 0.9/2.7 MB 1.1 MB/s eta 0:00:02\n",
      "   --------------- ------------------------ 1.0/2.7 MB 1.1 MB/s eta 0:00:02\n",
      "   --------------- ------------------------ 1.0/2.7 MB 1.1 MB/s eta 0:00:02\n",
      "   --------------- ------------------------ 1.0/2.7 MB 1.1 MB/s eta 0:00:02\n",
      "   --------------- ------------------------ 1.0/2.7 MB 1.1 MB/s eta 0:00:02\n",
      "   --------------- ------------------------ 1.0/2.7 MB 1.1 MB/s eta 0:00:02\n",
      "   --------------- ------------------------ 1.0/2.7 MB 870.6 kB/s eta 0:00:02\n",
      "   --------------- ------------------------ 1.0/2.7 MB 870.6 kB/s eta 0:00:02\n",
      "   ---------------- ----------------------- 1.1/2.7 MB 850.1 kB/s eta 0:00:02\n",
      "   ----------------- ---------------------- 1.2/2.7 MB 853.3 kB/s eta 0:00:02\n",
      "   ------------------ --------------------- 1.3/2.7 MB 898.1 kB/s eta 0:00:02\n",
      "   ------------------- -------------------- 1.3/2.7 MB 921.7 kB/s eta 0:00:02\n",
      "   --------------------- ------------------ 1.4/2.7 MB 965.4 kB/s eta 0:00:02\n",
      "   ----------------------- ---------------- 1.6/2.7 MB 1.0 MB/s eta 0:00:02\n",
      "   ------------------------ --------------- 1.6/2.7 MB 1.0 MB/s eta 0:00:01\n",
      "   ------------------------ --------------- 1.6/2.7 MB 1.0 MB/s eta 0:00:01\n",
      "   ------------------------- -------------- 1.7/2.7 MB 1.0 MB/s eta 0:00:01\n",
      "   --------------------------- ------------ 1.8/2.7 MB 1.1 MB/s eta 0:00:01\n",
      "   --------------------------- ------------ 1.8/2.7 MB 1.1 MB/s eta 0:00:01\n",
      "   --------------------------- ------------ 1.8/2.7 MB 1.1 MB/s eta 0:00:01\n",
      "   --------------------------- ------------ 1.8/2.7 MB 1.1 MB/s eta 0:00:01\n",
      "   --------------------------- ------------ 1.8/2.7 MB 1.1 MB/s eta 0:00:01\n",
      "   --------------------------- ------------ 1.8/2.7 MB 1.1 MB/s eta 0:00:01\n",
      "   --------------------------- ------------ 1.8/2.7 MB 1.1 MB/s eta 0:00:01\n",
      "   --------------------------- ------------ 1.8/2.7 MB 1.1 MB/s eta 0:00:01\n",
      "   ---------------------------- ----------- 1.9/2.7 MB 909.6 kB/s eta 0:00:01\n",
      "   ----------------------------- ---------- 1.9/2.7 MB 904.0 kB/s eta 0:00:01\n",
      "   ----------------------------- ---------- 2.0/2.7 MB 905.2 kB/s eta 0:00:01\n",
      "   ------------------------------ --------- 2.0/2.7 MB 893.4 kB/s eta 0:00:01\n",
      "   ------------------------------ --------- 2.0/2.7 MB 893.4 kB/s eta 0:00:01\n",
      "   ------------------------------ --------- 2.0/2.7 MB 893.4 kB/s eta 0:00:01\n",
      "   ------------------------------ --------- 2.0/2.7 MB 893.4 kB/s eta 0:00:01\n",
      "   ------------------------------ --------- 2.0/2.7 MB 893.4 kB/s eta 0:00:01\n",
      "   -------------------------------- ------- 2.2/2.7 MB 887.5 kB/s eta 0:00:01\n",
      "   --------------------------------- ------ 2.2/2.7 MB 887.2 kB/s eta 0:00:01\n",
      "   ----------------------------------- ---- 2.4/2.7 MB 918.9 kB/s eta 0:00:01\n",
      "   -------------------------------------- - 2.5/2.7 MB 969.1 kB/s eta 0:00:01\n",
      "   ---------------------------------------  2.7/2.7 MB 1.0 MB/s eta 0:00:01\n",
      "   ---------------------------------------- 2.7/2.7 MB 978.9 kB/s eta 0:00:00\n",
      "Installing collected packages: cryptography\n",
      "Successfully installed cryptography-41.0.7\n"
     ]
    }
   ],
   "source": [
    "!pip install cryptography"
   ]
  },
  {
   "cell_type": "code",
   "execution_count": 4,
   "id": "a111f5ba-5970-4956-be30-f5f0d962ad77",
   "metadata": {},
   "outputs": [
    {
     "ename": "ImportError",
     "evalue": "cannot import name 'Fernet' from 'cryptography' (C:\\Python311\\Lib\\site-packages\\cryptography\\__init__.py)",
     "output_type": "error",
     "traceback": [
      "\u001b[1;31m---------------------------------------------------------------------------\u001b[0m",
      "\u001b[1;31mImportError\u001b[0m                               Traceback (most recent call last)",
      "Cell \u001b[1;32mIn[4], line 1\u001b[0m\n\u001b[1;32m----> 1\u001b[0m \u001b[38;5;28;01mfrom\u001b[39;00m \u001b[38;5;21;01mcryptography\u001b[39;00m \u001b[38;5;28;01mimport\u001b[39;00m Fernet\n",
      "\u001b[1;31mImportError\u001b[0m: cannot import name 'Fernet' from 'cryptography' (C:\\Python311\\Lib\\site-packages\\cryptography\\__init__.py)"
     ]
    }
   ],
   "source": [
    "from cryptography import Fernet"
   ]
  },
  {
   "cell_type": "code",
   "execution_count": 5,
   "id": "a9fb98be-a44a-4fa8-879b-d112fd9b5a5f",
   "metadata": {},
   "outputs": [
    {
     "name": "stdout",
     "output_type": "stream",
     "text": [
      "Collecting Fernet\n",
      "  Downloading fernet-1.0.1.tar.gz (1.9 kB)\n",
      "  Preparing metadata (setup.py): started\n",
      "  Preparing metadata (setup.py): finished with status 'done'\n",
      "Collecting pyaes (from Fernet)\n",
      "  Downloading pyaes-1.6.1.tar.gz (28 kB)\n",
      "  Preparing metadata (setup.py): started\n",
      "  Preparing metadata (setup.py): finished with status 'done'\n",
      "Building wheels for collected packages: Fernet, pyaes\n",
      "  Building wheel for Fernet (setup.py): started\n",
      "  Building wheel for Fernet (setup.py): finished with status 'done'\n",
      "  Created wheel for Fernet: filename=fernet-1.0.1-py3-none-any.whl size=2240 sha256=0016ca2107381cb49a718ee6e2dd93067ef502900b9ffaa26ff960c8a41bd352\n",
      "  Stored in directory: c:\\users\\sinchana k y\\appdata\\local\\pip\\cache\\wheels\\fb\\7e\\9d\\b96731c10f5d0e1eb89bd6d24d24a2f26f2f3c1ee8aa0ed887\n",
      "  Building wheel for pyaes (setup.py): started\n",
      "  Building wheel for pyaes (setup.py): finished with status 'done'\n",
      "  Created wheel for pyaes: filename=pyaes-1.6.1-py3-none-any.whl size=26359 sha256=828a145cc147bfe20901a21d05123d62fa889fe3ace7fa22d9323f563550e1cb\n",
      "  Stored in directory: c:\\users\\sinchana k y\\appdata\\local\\pip\\cache\\wheels\\4e\\52\\33\\010d0843550bffb6a591b11629070ae140c0ad4f53e68a3bd3\n",
      "Successfully built Fernet pyaes\n",
      "Installing collected packages: pyaes, Fernet\n",
      "Successfully installed Fernet-1.0.1 pyaes-1.6.1\n"
     ]
    },
    {
     "name": "stderr",
     "output_type": "stream",
     "text": [
      "DEPRECATION: Loading egg at c:\\python311\\lib\\site-packages\\vboxapi-1.0-py3.11.egg is deprecated. pip 23.3 will enforce this behaviour change. A possible replacement is to use pip for package installation..\n",
      "\n",
      "[notice] A new release of pip is available: 23.2.1 -> 23.3.2\n",
      "[notice] To update, run: python.exe -m pip install --upgrade pip\n"
     ]
    }
   ],
   "source": [
    "!pip install Fernet"
   ]
  },
  {
   "cell_type": "code",
   "execution_count": 6,
   "id": "01b00bd3-767e-477e-8a63-309d680a6686",
   "metadata": {},
   "outputs": [],
   "source": [
    "from cryptography.fernet import Fernet"
   ]
  },
  {
   "cell_type": "code",
   "execution_count": 7,
   "id": "6409b60b-9d3a-4f55-b534-c3d13b7b895c",
   "metadata": {},
   "outputs": [],
   "source": [
    "key=Fernet.generate_key()\n",
    "cipher_suite = Fernet(key)"
   ]
  },
  {
   "cell_type": "code",
   "execution_count": 8,
   "id": "a5ad6927-418e-4d28-abec-23aa0b0f7a9e",
   "metadata": {},
   "outputs": [],
   "source": [
    "health_report = b\"Clients health report data here\""
   ]
  },
  {
   "cell_type": "code",
   "execution_count": 9,
   "id": "15e037cc-aa09-4ffc-a9bb-2118d63c37bc",
   "metadata": {},
   "outputs": [
    {
     "name": "stdout",
     "output_type": "stream",
     "text": [
      "encrypted Report: b'gAAAAABli7A0H-c38WWXqFw6km-V4Gn92LWM84dJ1zUHZnt_wP-T3du4ONsU39h48j2vzCp1-I4jNBFNX-8B96FOhXFwrOZekJyCAleLFcYkcgg9IxmShOA='\n"
     ]
    }
   ],
   "source": [
    "encrypted_report = cipher_suite.encrypt(health_report)\n",
    "print(\"encrypted Report:\",encrypted_report)"
   ]
  },
  {
   "cell_type": "code",
   "execution_count": 11,
   "id": "64b7aca0-8033-472b-acd8-facb1d167ff5",
   "metadata": {},
   "outputs": [
    {
     "name": "stdout",
     "output_type": "stream",
     "text": [
      "Decrypted Report: b'Clients health report data here'\n"
     ]
    }
   ],
   "source": [
    "decrypted_report = cipher_suite.decrypt(encrypted_report)\n",
    "print(\"Decrypted Report:\",decrypted_report)"
   ]
  },
  {
   "cell_type": "code",
   "execution_count": 12,
   "id": "d2640169-efda-4e9d-97d8-4c853291d112",
   "metadata": {},
   "outputs": [],
   "source": [
    "import json"
   ]
  },
  {
   "cell_type": "code",
   "execution_count": 13,
   "id": "f6532154-124e-4871-8bad-37225fc5d51c",
   "metadata": {},
   "outputs": [
    {
     "name": "stdout",
     "output_type": "stream",
     "text": [
      "Health Report JSON: {\"client_id\": 123, \"blood_pressure\": {\"systolic\": 120, \"diastolic\": 80}, \"heart_rate\": 70, \"temperature\": 98.6}\n"
     ]
    }
   ],
   "source": [
    "health_report_data = {\n",
    "    \"client_id\": 123,\n",
    "    \"blood_pressure\": {\n",
    "        \"systolic\": 120,\n",
    "        \"diastolic\": 80\n",
    "    },\n",
    "    \"heart_rate\": 70,\n",
    "    \"temperature\": 98.6\n",
    "}\n",
    "health_report_json = json.dumps(health_report_data)\n",
    "print(\"Health Report JSON:\",health_report_json)"
   ]
  },
  {
   "cell_type": "code",
   "execution_count": 15,
   "id": "a659050a-0472-4e19-b417-953ad7b1b2e7",
   "metadata": {},
   "outputs": [],
   "source": [
    "import numpy as np\n",
    "from sklearn.linear_model import LinearRegression\n",
    "X = np.random.rand(100,1) * 10 \n",
    "y = 2 * X + 1 + np.random.randn(100, 1)\n"
   ]
  },
  {
   "cell_type": "code",
   "execution_count": 16,
   "id": "63719a11-24bf-4db3-ab9d-c79bd8d5235f",
   "metadata": {},
   "outputs": [
    {
     "data": {
      "text/html": [
       "<style>#sk-container-id-1 {color: black;background-color: white;}#sk-container-id-1 pre{padding: 0;}#sk-container-id-1 div.sk-toggleable {background-color: white;}#sk-container-id-1 label.sk-toggleable__label {cursor: pointer;display: block;width: 100%;margin-bottom: 0;padding: 0.3em;box-sizing: border-box;text-align: center;}#sk-container-id-1 label.sk-toggleable__label-arrow:before {content: \"▸\";float: left;margin-right: 0.25em;color: #696969;}#sk-container-id-1 label.sk-toggleable__label-arrow:hover:before {color: black;}#sk-container-id-1 div.sk-estimator:hover label.sk-toggleable__label-arrow:before {color: black;}#sk-container-id-1 div.sk-toggleable__content {max-height: 0;max-width: 0;overflow: hidden;text-align: left;background-color: #f0f8ff;}#sk-container-id-1 div.sk-toggleable__content pre {margin: 0.2em;color: black;border-radius: 0.25em;background-color: #f0f8ff;}#sk-container-id-1 input.sk-toggleable__control:checked~div.sk-toggleable__content {max-height: 200px;max-width: 100%;overflow: auto;}#sk-container-id-1 input.sk-toggleable__control:checked~label.sk-toggleable__label-arrow:before {content: \"▾\";}#sk-container-id-1 div.sk-estimator input.sk-toggleable__control:checked~label.sk-toggleable__label {background-color: #d4ebff;}#sk-container-id-1 div.sk-label input.sk-toggleable__control:checked~label.sk-toggleable__label {background-color: #d4ebff;}#sk-container-id-1 input.sk-hidden--visually {border: 0;clip: rect(1px 1px 1px 1px);clip: rect(1px, 1px, 1px, 1px);height: 1px;margin: -1px;overflow: hidden;padding: 0;position: absolute;width: 1px;}#sk-container-id-1 div.sk-estimator {font-family: monospace;background-color: #f0f8ff;border: 1px dotted black;border-radius: 0.25em;box-sizing: border-box;margin-bottom: 0.5em;}#sk-container-id-1 div.sk-estimator:hover {background-color: #d4ebff;}#sk-container-id-1 div.sk-parallel-item::after {content: \"\";width: 100%;border-bottom: 1px solid gray;flex-grow: 1;}#sk-container-id-1 div.sk-label:hover label.sk-toggleable__label {background-color: #d4ebff;}#sk-container-id-1 div.sk-serial::before {content: \"\";position: absolute;border-left: 1px solid gray;box-sizing: border-box;top: 0;bottom: 0;left: 50%;z-index: 0;}#sk-container-id-1 div.sk-serial {display: flex;flex-direction: column;align-items: center;background-color: white;padding-right: 0.2em;padding-left: 0.2em;position: relative;}#sk-container-id-1 div.sk-item {position: relative;z-index: 1;}#sk-container-id-1 div.sk-parallel {display: flex;align-items: stretch;justify-content: center;background-color: white;position: relative;}#sk-container-id-1 div.sk-item::before, #sk-container-id-1 div.sk-parallel-item::before {content: \"\";position: absolute;border-left: 1px solid gray;box-sizing: border-box;top: 0;bottom: 0;left: 50%;z-index: -1;}#sk-container-id-1 div.sk-parallel-item {display: flex;flex-direction: column;z-index: 1;position: relative;background-color: white;}#sk-container-id-1 div.sk-parallel-item:first-child::after {align-self: flex-end;width: 50%;}#sk-container-id-1 div.sk-parallel-item:last-child::after {align-self: flex-start;width: 50%;}#sk-container-id-1 div.sk-parallel-item:only-child::after {width: 0;}#sk-container-id-1 div.sk-dashed-wrapped {border: 1px dashed gray;margin: 0 0.4em 0.5em 0.4em;box-sizing: border-box;padding-bottom: 0.4em;background-color: white;}#sk-container-id-1 div.sk-label label {font-family: monospace;font-weight: bold;display: inline-block;line-height: 1.2em;}#sk-container-id-1 div.sk-label-container {text-align: center;}#sk-container-id-1 div.sk-container {/* jupyter's `normalize.less` sets `[hidden] { display: none; }` but bootstrap.min.css set `[hidden] { display: none !important; }` so we also need the `!important` here to be able to override the default hidden behavior on the sphinx rendered scikit-learn.org. See: https://github.com/scikit-learn/scikit-learn/issues/21755 */display: inline-block !important;position: relative;}#sk-container-id-1 div.sk-text-repr-fallback {display: none;}</style><div id=\"sk-container-id-1\" class=\"sk-top-container\"><div class=\"sk-text-repr-fallback\"><pre>LinearRegression()</pre><b>In a Jupyter environment, please rerun this cell to show the HTML representation or trust the notebook. <br />On GitHub, the HTML representation is unable to render, please try loading this page with nbviewer.org.</b></div><div class=\"sk-container\" hidden><div class=\"sk-item\"><div class=\"sk-estimator sk-toggleable\"><input class=\"sk-toggleable__control sk-hidden--visually\" id=\"sk-estimator-id-1\" type=\"checkbox\" checked><label for=\"sk-estimator-id-1\" class=\"sk-toggleable__label sk-toggleable__label-arrow\">LinearRegression</label><div class=\"sk-toggleable__content\"><pre>LinearRegression()</pre></div></div></div></div></div>"
      ],
      "text/plain": [
       "LinearRegression()"
      ]
     },
     "execution_count": 16,
     "metadata": {},
     "output_type": "execute_result"
    }
   ],
   "source": [
    "model = LinearRegression()\n",
    "model.fit(X, y )"
   ]
  },
  {
   "cell_type": "code",
   "execution_count": 17,
   "id": "59a58c64-64ed-415e-8486-69cb4aeebc78",
   "metadata": {},
   "outputs": [
    {
     "name": "stdout",
     "output_type": "stream",
     "text": [
      "Predicted value: 31.316467249895673\n"
     ]
    }
   ],
   "source": [
    "prediction = model.predict([[15]])\n",
    "print(\"Predicted value:\",prediction[0][0])"
   ]
  },
  {
   "cell_type": "code",
   "execution_count": 61,
   "id": "518abad3-dffe-4f48-aa51-f475f9f646d1",
   "metadata": {},
   "outputs": [
    {
     "name": "stdout",
     "output_type": "stream",
     "text": [
      "Error: Connection unexpectedly closed\n"
     ]
    }
   ],
   "source": [
    "import smtplib\n",
    "from email.mime.multipart import MIMEMultipart\n",
    "from email.mime.text import MIMEText\n",
    "\n",
    "def send_health_report_via_email(client_email_address, report_data):\n",
    "    # Email credentials and configuration\n",
    "    email_host = 'smtp.gmail.com'\n",
    "    email_port = 465\n",
    "    sender_email = 'sinchana84589@gmail.com'\n",
    "    password = 'SinchanaKY@24@'\n",
    "\n",
    "    # Create message container\n",
    "    msg = MIMEMultipart()\n",
    "    msg['From'] = sender_email\n",
    "    msg['To'] = client_email_address\n",
    "    msg['Subject'] = 'Your Health Report'\n",
    "\n",
    "    # Prepare the email body with the health report information\n",
    "    body = f\"Dear Client,\\n\\nPlease find attached your health report.\\n\\n{report_data}\"\n",
    "    msg.attach(MIMEText(body, 'plain'))\n",
    "\n",
    "    # Connect to the email server and send the email\n",
    "    try:\n",
    "        server = smtplib.SMTP(email_host, email_port)\n",
    "        server.starttls()\n",
    "        server.login(sender_email, password)\n",
    "        server.send_message(msg)\n",
    "        server.quit()\n",
    "        print(\"Email sent successfully!\")\n",
    "    except Exception as e:\n",
    "        print(f\"Error: {str(e)}\")\n",
    "\n",
    "# Example health report data in JSON format\n",
    "health_report = {\n",
    "    \"client_id\": 123,\n",
    "    \"name\": \"John Doe\",\n",
    "    \"diagnosis\": \"Healthy\",\n",
    "    \"blood_pressure\": {\n",
    "        \"systolic\": 120,\n",
    "        \"diastolic\": 80\n",
    "    },\n",
    "    \"heart_rate\": 70,\n",
    "    \"temperature\": 98.6\n",
    "}\n",
    "\n",
    "\n",
    "# Example client email address\n",
    "client_email_address = 'sinchanaky24@gmail.com'\n",
    "\n",
    "# Sending the health report to the client's email\n",
    "send_health_report_via_email(client_email_address, health_report)\n"
   ]
  },
  {
   "cell_type": "code",
   "execution_count": null,
   "id": "cab8d550-0664-4657-8609-5ba6005f005c",
   "metadata": {},
   "outputs": [],
   "source": []
  }
 ],
 "metadata": {
  "kernelspec": {
   "display_name": "Python 3 (ipykernel)",
   "language": "python",
   "name": "python3"
  },
  "language_info": {
   "codemirror_mode": {
    "name": "ipython",
    "version": 3
   },
   "file_extension": ".py",
   "mimetype": "text/x-python",
   "name": "python",
   "nbconvert_exporter": "python",
   "pygments_lexer": "ipython3",
   "version": "3.11.3"
  }
 },
 "nbformat": 4,
 "nbformat_minor": 5
}
